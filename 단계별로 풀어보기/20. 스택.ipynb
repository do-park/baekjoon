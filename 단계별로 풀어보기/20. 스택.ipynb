{
 "cells": [
  {
   "cell_type": "code",
   "execution_count": null,
   "metadata": {},
   "outputs": [],
   "source": [
    "# 10828. 스택"
   ]
  },
  {
   "cell_type": "code",
   "execution_count": null,
   "metadata": {},
   "outputs": [],
   "source": [
    "import sys\n",
    "\n",
    "N = int(input())\n",
    "my_stack = []\n",
    "\n",
    "for i in range(0, N):\n",
    "    cmd = sys.stdin.readline().split()\n",
    "    if cmd[0] == 'push':\n",
    "        my_stack.append(cmd[1])\n",
    "    elif cmd[0] == 'pop':\n",
    "        if len(my_stack):\n",
    "            print(my_stack.pop())\n",
    "        else:\n",
    "            print(-1)\n",
    "    elif cmd[0] == 'size':\n",
    "        print(len(my_stack))\n",
    "    elif cmd[0] == 'empty':\n",
    "        if len(my_stack):\n",
    "            print(0)\n",
    "        else:\n",
    "            print(1)\n",
    "    elif cmd[0] == 'top':\n",
    "        if len(my_stack):\n",
    "            print(my_stack[-1])\n",
    "        else:\n",
    "            print(-1)"
   ]
  },
  {
   "cell_type": "code",
   "execution_count": null,
   "metadata": {},
   "outputs": [],
   "source": [
    "# 10773. 제로"
   ]
  },
  {
   "cell_type": "code",
   "execution_count": null,
   "metadata": {},
   "outputs": [],
   "source": [
    "K = int(input())\n",
    "\n",
    "stack = []\n",
    "for k in range(K):\n",
    "    x = int(input())\n",
    "    if x == 0:\n",
    "        del stack[-1]\n",
    "    else:\n",
    "        stack.append(x)\n",
    "\n",
    "print(sum(stack))"
   ]
  },
  {
   "cell_type": "code",
   "execution_count": null,
   "metadata": {},
   "outputs": [],
   "source": [
    "# 9012. 괄호"
   ]
  },
  {
   "cell_type": "code",
   "execution_count": null,
   "metadata": {},
   "outputs": [],
   "source": [
    "T = int(input())\n",
    "\n",
    "for tc in range(T):\n",
    "    S = list(map(str, input()))\n",
    "    stack =[]\n",
    "    for s in S:\n",
    "        if s == '(':\n",
    "            stack.append(s)\n",
    "        elif s == ')':\n",
    "            if len(stack) == 0:\n",
    "                print('NO')\n",
    "                break\n",
    "            else:\n",
    "                del stack[-1]\n",
    "\n",
    "    else:\n",
    "        print('YES') if len(stack) == 0 else print('NO')"
   ]
  },
  {
   "cell_type": "code",
   "execution_count": null,
   "metadata": {},
   "outputs": [],
   "source": [
    "# 4949. 균형잡힌 세상"
   ]
  },
  {
   "cell_type": "code",
   "execution_count": null,
   "metadata": {},
   "outputs": [],
   "source": [
    "while True:\n",
    "    S = input()\n",
    "    if S == '.':\n",
    "        break\n",
    "\n",
    "    S = list(S)\n",
    "    stack =[]\n",
    "    for s in S:\n",
    "        if s == '(' or s == '[':\n",
    "            stack.append(s)\n",
    "        elif s == ')':\n",
    "            if len(stack) == 0:\n",
    "                print('no')\n",
    "                break\n",
    "            else:\n",
    "                if stack[-1] == '(':\n",
    "                    del stack[-1]\n",
    "                else:\n",
    "                    print('no')\n",
    "                    break\n",
    "        elif s == ']':\n",
    "            if len(stack) == 0:\n",
    "                print('no')\n",
    "                break\n",
    "            else:\n",
    "                if stack[-1] == '[':\n",
    "                    del stack[-1]\n",
    "                else:\n",
    "                    print('no')\n",
    "                    break\n",
    "\n",
    "    else:\n",
    "        print('yes') if len(stack) == 0 else print('no')"
   ]
  },
  {
   "cell_type": "code",
   "execution_count": null,
   "metadata": {},
   "outputs": [],
   "source": [
    "# 10874. 스택 수열"
   ]
  },
  {
   "cell_type": "code",
   "execution_count": null,
   "metadata": {},
   "outputs": [],
   "source": [
    "class Stack():\n",
    "    def __init__(self):\n",
    "        self.num_list = []\n",
    "        self.plus_minus = []\n",
    " \n",
    "    def push(self, num):\n",
    "        self.num_list.append(num)\n",
    "        self.plus_minus.append('+')\n",
    " \n",
    "    def pop(self):\n",
    "        if len(self.num_list) != 0:\n",
    "            self.plus_minus.append('-')\n",
    "            return self.num_list.pop()\n",
    "        else:\n",
    "            return -1\n",
    " \n",
    "    def size(self):\n",
    "        return len(self.num_list)\n",
    " \n",
    "    def empty(self):\n",
    "        if len(self.num_list) == 0:\n",
    "            return 1\n",
    "        else:\n",
    "            return 0\n",
    " \n",
    "    def top(self):\n",
    "        if len(self.num_list) != 0:\n",
    "            return self.num_list[-1]\n",
    "        else:\n",
    "            return -1\n",
    " \n",
    "stack = Stack()\n",
    "count = 1\n",
    "possibility = True\n",
    "for i in range(int(input())):\n",
    "    num = int(input())\n",
    "    while count <= num:\n",
    "        stack.push(count)\n",
    "        count += 1\n",
    "    if stack.num_list[-1] == num:\n",
    "        stack.pop()\n",
    "    else:\n",
    "        possibility = False\n",
    "        break\n",
    " \n",
    "if possibility == False:\n",
    "    print('NO')\n",
    "else:\n",
    "    for k in stack.plus_minus:\n",
    "        print(k)"
   ]
  }
 ],
 "metadata": {
  "kernelspec": {
   "display_name": "Python 3",
   "language": "python",
   "name": "python3"
  },
  "language_info": {
   "codemirror_mode": {
    "name": "ipython",
    "version": 3
   },
   "file_extension": ".py",
   "mimetype": "text/x-python",
   "name": "python",
   "nbconvert_exporter": "python",
   "pygments_lexer": "ipython3",
   "version": "3.7.3"
  }
 },
 "nbformat": 4,
 "nbformat_minor": 4
}
