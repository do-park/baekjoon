{
 "cells": [
  {
   "cell_type": "code",
   "execution_count": null,
   "metadata": {},
   "outputs": [],
   "source": [
    "# 1. 1712 손익분기점"
   ]
  },
  {
   "cell_type": "code",
   "execution_count": 10,
   "metadata": {
    "scrolled": true
   },
   "outputs": [
    {
     "name": "stdout",
     "output_type": "stream",
     "text": [
      "1000 70 170\n",
      "11\n"
     ]
    }
   ],
   "source": [
    "A, B, C = input().split()\n",
    "A = int(A); B = int(B); C = int(C)\n",
    "\n",
    "while True:\n",
    "    if B >= C:\n",
    "        print(-1)\n",
    "        break\n",
    "    else:\n",
    "        print(( A // (C - B)) + 1)\n",
    "        break"
   ]
  },
  {
   "cell_type": "code",
   "execution_count": null,
   "metadata": {},
   "outputs": [],
   "source": [
    "# 2. 2839 설탕배달"
   ]
  },
  {
   "cell_type": "code",
   "execution_count": 13,
   "metadata": {},
   "outputs": [
    {
     "name": "stdout",
     "output_type": "stream",
     "text": [
      "11\n",
      "3\n"
     ]
    }
   ],
   "source": [
    "sugar = int(input())\n",
    "package = 0\n",
    "\n",
    "while sugar != 0:\n",
    "    if sugar % 5 == 0:\n",
    "        package += sugar // 5\n",
    "        sugar = 0\n",
    "    else:\n",
    "        if sugar < 3:\n",
    "            package = -1\n",
    "            break\n",
    "        else:\n",
    "            sugar -= 3\n",
    "            package += 1\n",
    "\n",
    "print(package)"
   ]
  },
  {
   "cell_type": "code",
   "execution_count": null,
   "metadata": {},
   "outputs": [],
   "source": [
    "# 3. 2292 벌집"
   ]
  },
  {
   "cell_type": "code",
   "execution_count": 11,
   "metadata": {},
   "outputs": [
    {
     "name": "stdout",
     "output_type": "stream",
     "text": [
      "13\n",
      "3\n"
     ]
    }
   ],
   "source": [
    "room = int(input())\n",
    "\n",
    "if room == 1:\n",
    "    print(1)\n",
    "else:\n",
    "    count = 1\n",
    "    answer = 1\n",
    "    while room >= 2:\n",
    "        room -= count * 6\n",
    "        count += 1\n",
    "        answer += 1\n",
    "    print(answer)"
   ]
  },
  {
   "cell_type": "code",
   "execution_count": null,
   "metadata": {},
   "outputs": [],
   "source": [
    "# 4. 1193 분수찾기"
   ]
  },
  {
   "cell_type": "code",
   "execution_count": null,
   "metadata": {},
   "outputs": [],
   "source": []
  },
  {
   "cell_type": "code",
   "execution_count": null,
   "metadata": {},
   "outputs": [],
   "source": [
    "# 5. 2869 달팽이는 올라가고 싶다"
   ]
  },
  {
   "cell_type": "code",
   "execution_count": 5,
   "metadata": {},
   "outputs": [
    {
     "name": "stdout",
     "output_type": "stream",
     "text": [
      "2 1 5\n",
      "4\n"
     ]
    }
   ],
   "source": [
    "A, B, V = input().split()\n",
    "A = int(A); B = int(B); V = int(V)\n",
    "\n",
    "print((V - B - 1) // (A - B) + 1)"
   ]
  },
  {
   "cell_type": "code",
   "execution_count": null,
   "metadata": {},
   "outputs": [],
   "source": [
    "# 6. 10250 ACM 호텔"
   ]
  },
  {
   "cell_type": "code",
   "execution_count": 10,
   "metadata": {},
   "outputs": [
    {
     "name": "stdout",
     "output_type": "stream",
     "text": [
      "5\n",
      "30 50 72\n",
      "1203\n",
      "6 12 10\n",
      "402\n",
      "30 50 31\n",
      "102\n",
      "30 50 60\n",
      "3002\n",
      "6 12 6\n",
      "601\n"
     ]
    }
   ],
   "source": [
    "T = int(input())\n",
    "\n",
    "for i in range(0, T):\n",
    "    H, W, N = input().split()\n",
    "    H = int(H); W = int(W); N = int(N)\n",
    "    floor = N % H\n",
    "    unit = ((N // H) + 1)\n",
    "    if not floor:\n",
    "        floor = H\n",
    "        unit -= 1\n",
    "    print(floor * 100 + unit)"
   ]
  },
  {
   "cell_type": "code",
   "execution_count": null,
   "metadata": {},
   "outputs": [],
   "source": [
    "# 7. 2775 부녀회장이 될테야"
   ]
  },
  {
   "cell_type": "code",
   "execution_count": null,
   "metadata": {},
   "outputs": [],
   "source": []
  },
  {
   "cell_type": "code",
   "execution_count": null,
   "metadata": {},
   "outputs": [],
   "source": [
    "# 8. 1011 Fly me to the Alpha Centauri"
   ]
  },
  {
   "cell_type": "code",
   "execution_count": null,
   "metadata": {},
   "outputs": [],
   "source": []
  }
 ],
 "metadata": {
  "kernelspec": {
   "display_name": "Python 3",
   "language": "python",
   "name": "python3"
  },
  "language_info": {
   "codemirror_mode": {
    "name": "ipython",
    "version": 3
   },
   "file_extension": ".py",
   "mimetype": "text/x-python",
   "name": "python",
   "nbconvert_exporter": "python",
   "pygments_lexer": "ipython3",
   "version": "3.7.4"
  }
 },
 "nbformat": 4,
 "nbformat_minor": 2
}
