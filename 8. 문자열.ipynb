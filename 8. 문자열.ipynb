{
 "cells": [
  {
   "cell_type": "code",
   "execution_count": null,
   "metadata": {},
   "outputs": [],
   "source": [
    "# 1. 11654 아스키코드"
   ]
  },
  {
   "cell_type": "code",
   "execution_count": 1,
   "metadata": {},
   "outputs": [
    {
     "name": "stdout",
     "output_type": "stream",
     "text": [
      "A\n",
      "65\n"
     ]
    }
   ],
   "source": [
    "a = input()\n",
    "\n",
    "print(ord(a))"
   ]
  },
  {
   "cell_type": "code",
   "execution_count": null,
   "metadata": {},
   "outputs": [],
   "source": [
    "# 2. 11720 숫자의 합"
   ]
  },
  {
   "cell_type": "code",
   "execution_count": 2,
   "metadata": {},
   "outputs": [
    {
     "name": "stdout",
     "output_type": "stream",
     "text": [
      "5\n",
      "54321\n",
      "15\n"
     ]
    }
   ],
   "source": [
    "num = int(input())\n",
    "numbers = list(input())\n",
    "sum = 0\n",
    "\n",
    "for i in numbers:\n",
    "    sum += int(i)\n",
    "\n",
    "print(sum)"
   ]
  },
  {
   "cell_type": "code",
   "execution_count": null,
   "metadata": {},
   "outputs": [],
   "source": [
    "# 3. 10809 알파벳 찾기"
   ]
  },
  {
   "cell_type": "code",
   "execution_count": 13,
   "metadata": {},
   "outputs": [
    {
     "name": "stdout",
     "output_type": "stream",
     "text": [
      "baekjoon\n",
      "1 0 -1 -1 2 -1 -1 -1 -1 4 3 -1 -1 7 5 -1 -1 -1 -1 -1 -1 -1 -1 -1 -1 -1 "
     ]
    }
   ],
   "source": [
    "word = input()\n",
    "alphabet = {'a':-1, 'b':-1, 'c':-1, 'd':-1, 'e':-1, 'f':-1, 'g':-1, 'h':-1, 'i':-1, 'j':-1, 'k':-1, 'l':-1, 'm':-1, 'n':-1, 'o':-1, 'p':-1, 'q':-1, 'r':-1, 's':-1, 't':-1, 'u':-1, 'v':-1, 'w':-1, 'x':-1, 'y':-1, 'z':-1}\n",
    "\n",
    "for i in word:\n",
    "    alphabet[i] = word.index(i)\n",
    "    \n",
    "for key, value in alphabet.items():\n",
    "    print(value, end=' ')"
   ]
  },
  {
   "cell_type": "code",
   "execution_count": null,
   "metadata": {},
   "outputs": [],
   "source": [
    "# 4. 2675 문자열 반복"
   ]
  },
  {
   "cell_type": "code",
   "execution_count": 19,
   "metadata": {},
   "outputs": [
    {
     "name": "stdout",
     "output_type": "stream",
     "text": [
      "2\n",
      "3 ABC\n",
      "5 /HTP\n",
      "AAABBBCCC\n",
      "/////HHHHHTTTTTPPPPP\n"
     ]
    }
   ],
   "source": [
    "P_list = []\n",
    "P = str()\n",
    "\n",
    "for i in range(0, int(input())):\n",
    "    R, S = input().split()\n",
    "    R = int(R)\n",
    "    for j in range(0, len(S)):\n",
    "        P += R * S[j]\n",
    "    P_list.append(P)\n",
    "    P = str()\n",
    "\n",
    "for i in range(0, len(P_list)):\n",
    "    print(P_list[i])"
   ]
  },
  {
   "cell_type": "code",
   "execution_count": null,
   "metadata": {},
   "outputs": [],
   "source": [
    "# 5. 1157 단어 공부"
   ]
  },
  {
   "cell_type": "code",
   "execution_count": 1,
   "metadata": {},
   "outputs": [
    {
     "name": "stdout",
     "output_type": "stream",
     "text": [
      "Mississipi\n",
      "?\n"
     ]
    }
   ],
   "source": [
    "alpha_list = [0 for i in range(0, 26)]\n",
    "word = input()\n",
    "word = word.lower()\n",
    "\n",
    "alpha_list[0] = word.count('a')\n",
    "alpha_list[1] = word.count('b')\n",
    "alpha_list[2] = word.count('c')\n",
    "alpha_list[3] = word.count('d')\n",
    "alpha_list[4] = word.count('e')\n",
    "alpha_list[5] = word.count('f')\n",
    "alpha_list[6] = word.count('g')\n",
    "alpha_list[7] = word.count('h')\n",
    "alpha_list[8] = word.count('i')\n",
    "alpha_list[9] = word.count('j')\n",
    "alpha_list[10] = word.count('k')\n",
    "alpha_list[11] = word.count('l')\n",
    "alpha_list[12] = word.count('m')\n",
    "alpha_list[13] = word.count('n')\n",
    "alpha_list[14] = word.count('o')\n",
    "alpha_list[15] = word.count('p')\n",
    "alpha_list[16] = word.count('q')\n",
    "alpha_list[17] = word.count('r')\n",
    "alpha_list[18] = word.count('s')\n",
    "alpha_list[19] = word.count('t')\n",
    "alpha_list[20] = word.count('u')\n",
    "alpha_list[21] = word.count('v')\n",
    "alpha_list[22] = word.count('w')\n",
    "alpha_list[23] = word.count('x')\n",
    "alpha_list[24] = word.count('y')\n",
    "alpha_list[25] = word.count('z')\n",
    "\n",
    "mymax = max(alpha_list)\n",
    "if alpha_list.count(mymax) > 1:\n",
    "    print('?')\n",
    "else:\n",
    "    print(chr(65 + alpha_list.index(mymax)))"
   ]
  },
  {
   "cell_type": "code",
   "execution_count": null,
   "metadata": {},
   "outputs": [],
   "source": [
    "# 6. 1152 단어의 개수"
   ]
  },
  {
   "cell_type": "code",
   "execution_count": 3,
   "metadata": {},
   "outputs": [
    {
     "name": "stdout",
     "output_type": "stream",
     "text": [
      "The Curious Case of Benjamin Button\n",
      "6\n"
     ]
    }
   ],
   "source": [
    "sentence = list(input().split())\n",
    "print(len(sentence))"
   ]
  },
  {
   "cell_type": "code",
   "execution_count": null,
   "metadata": {},
   "outputs": [],
   "source": [
    "# 7. 2908 상수"
   ]
  },
  {
   "cell_type": "code",
   "execution_count": 35,
   "metadata": {},
   "outputs": [
    {
     "name": "stdout",
     "output_type": "stream",
     "text": [
      "734 893\n",
      "437\n"
     ]
    }
   ],
   "source": [
    "A, B = input().split()\n",
    "A = int(A[::-1]); B = int(B[::-1])\n",
    "\n",
    "if A > B:\n",
    "    print(A)\n",
    "else:\n",
    "    print(B)"
   ]
  },
  {
   "cell_type": "code",
   "execution_count": null,
   "metadata": {},
   "outputs": [],
   "source": [
    "# 8. 5622 다이얼"
   ]
  },
  {
   "cell_type": "code",
   "execution_count": 36,
   "metadata": {},
   "outputs": [
    {
     "name": "stdout",
     "output_type": "stream",
     "text": [
      "UNUCIC\n",
      "36\n"
     ]
    }
   ],
   "source": [
    "word = input()\n",
    "alphabet = {'A':3, 'B':3, 'C':3, 'D':4, 'E':4, 'F':4, 'G':5, 'H':5, 'I':5, 'J':6, 'K':6, 'L':6, 'M':7, 'N':7, 'O':7, 'P':8, 'Q':8, 'R':8, 'S':8, 'T':9, 'U':9, 'V':9, 'W':10, 'X':10, 'Y':10, 'Z':10}\n",
    "time = 0\n",
    "\n",
    "for i in word:\n",
    "    time += alphabet[i]\n",
    "    \n",
    "print(time)"
   ]
  },
  {
   "cell_type": "code",
   "execution_count": null,
   "metadata": {},
   "outputs": [],
   "source": [
    "# 9. 2941 크로아티아 알파벳"
   ]
  },
  {
   "cell_type": "code",
   "execution_count": 2,
   "metadata": {},
   "outputs": [
    {
     "name": "stdout",
     "output_type": "stream",
     "text": [
      "ljes=njak\n",
      "6\n"
     ]
    }
   ],
   "source": [
    "croatic = ['c=', 'c-', 'dz=', 'd-', 'lj', 'nj', 's=', 'z=']\n",
    "\n",
    "alpha = input()\n",
    "\n",
    "for c in croatic:\n",
    "    alpha = alpha.replace(c, 'a')\n",
    "\n",
    "print(len(alpha))"
   ]
  },
  {
   "cell_type": "code",
   "execution_count": null,
   "metadata": {},
   "outputs": [],
   "source": [
    "# 10. 1316 그룹 단어 체커"
   ]
  },
  {
   "cell_type": "code",
   "execution_count": 3,
   "metadata": {},
   "outputs": [
    {
     "name": "stdout",
     "output_type": "stream",
     "text": [
      "3\n",
      "happy\n",
      "new\n",
      "year\n",
      "3\n"
     ]
    }
   ],
   "source": [
    "count = 0\n",
    "for tc in range(int(input())):\n",
    "    string = list(map(str, input()))\n",
    "    group = []\n",
    "    for i in range(1, len(string)):\n",
    "        if string[i - 1] != string[i]:\n",
    "            if string[i] in group:\n",
    "                break\n",
    "            else:\n",
    "                group.append(string[i - 1])\n",
    "    else:\n",
    "        count += 1\n",
    "\n",
    "print(count)"
   ]
  }
 ],
 "metadata": {
  "kernelspec": {
   "display_name": "Python 3",
   "language": "python",
   "name": "python3"
  },
  "language_info": {
   "codemirror_mode": {
    "name": "ipython",
    "version": 3
   },
   "file_extension": ".py",
   "mimetype": "text/x-python",
   "name": "python",
   "nbconvert_exporter": "python",
   "pygments_lexer": "ipython3",
   "version": "3.7.3"
  }
 },
 "nbformat": 4,
 "nbformat_minor": 2
}
