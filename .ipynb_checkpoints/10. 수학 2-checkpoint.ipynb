{
 "cells": [
  {
   "cell_type": "code",
   "execution_count": null,
   "metadata": {},
   "outputs": [],
   "source": [
    "# 1. 1978 소수 찾기"
   ]
  },
  {
   "cell_type": "code",
   "execution_count": null,
   "metadata": {},
   "outputs": [],
   "source": []
  },
  {
   "cell_type": "code",
   "execution_count": null,
   "metadata": {},
   "outputs": [],
   "source": [
    "# 2. 2581 소수"
   ]
  },
  {
   "cell_type": "code",
   "execution_count": null,
   "metadata": {},
   "outputs": [],
   "source": []
  },
  {
   "cell_type": "code",
   "execution_count": null,
   "metadata": {},
   "outputs": [],
   "source": [
    "# 3. 1929 소수 구하기"
   ]
  },
  {
   "cell_type": "code",
   "execution_count": null,
   "metadata": {},
   "outputs": [],
   "source": []
  },
  {
   "cell_type": "code",
   "execution_count": null,
   "metadata": {},
   "outputs": [],
   "source": [
    "# 4. 4948 베르트랑 공준"
   ]
  },
  {
   "cell_type": "code",
   "execution_count": null,
   "metadata": {},
   "outputs": [],
   "source": []
  },
  {
   "cell_type": "code",
   "execution_count": null,
   "metadata": {},
   "outputs": [],
   "source": [
    "# 5. 9020 골드바흐의 추측"
   ]
  },
  {
   "cell_type": "code",
   "execution_count": null,
   "metadata": {},
   "outputs": [],
   "source": []
  },
  {
   "cell_type": "code",
   "execution_count": null,
   "metadata": {},
   "outputs": [],
   "source": [
    "# 6. 1085 직사각형에서 탈출"
   ]
  },
  {
   "cell_type": "code",
   "execution_count": 2,
   "metadata": {},
   "outputs": [
    {
     "name": "stdout",
     "output_type": "stream",
     "text": [
      "6 2 10 3\n",
      "1\n"
     ]
    }
   ],
   "source": [
    "x, y, w, h = list(map(int, input().split()))\n",
    "\n",
    "a1 = w - x\n",
    "a2 = x\n",
    "a3 = h - y\n",
    "a4 = y\n",
    "\n",
    "print(min(a1, a2, a3, a4))"
   ]
  },
  {
   "cell_type": "code",
   "execution_count": null,
   "metadata": {},
   "outputs": [],
   "source": [
    "# 7. 3009 네 번째 점"
   ]
  },
  {
   "cell_type": "code",
   "execution_count": 1,
   "metadata": {},
   "outputs": [
    {
     "name": "stdout",
     "output_type": "stream",
     "text": [
      "30 20\n",
      "10 10\n",
      "10 20\n",
      "30 10\n"
     ]
    }
   ],
   "source": [
    "Xlist = {}\n",
    "Ylist = {}\n",
    "\n",
    "for i in range(0, 3):\n",
    "    X, Y = map(int, input().split())\n",
    "    if X in Xlist:\n",
    "        Xlist[X] += 1\n",
    "    else:\n",
    "        Xlist[X] = 1\n",
    "    if Y in Ylist:\n",
    "        Ylist[Y] += 1\n",
    "    else:\n",
    "        Ylist[Y] = 1\n",
    "\n",
    "for x in Xlist:\n",
    "    if Xlist[x] == 1:\n",
    "        print(x, end=' ')\n",
    "\n",
    "for y in Ylist:\n",
    "    if Ylist[y] == 1:\n",
    "        print(y)"
   ]
  },
  {
   "cell_type": "code",
   "execution_count": null,
   "metadata": {},
   "outputs": [],
   "source": [
    "# 8. 4153 직각삼각형"
   ]
  },
  {
   "cell_type": "code",
   "execution_count": 1,
   "metadata": {},
   "outputs": [
    {
     "name": "stdout",
     "output_type": "stream",
     "text": [
      "6 8 10\n",
      "right\n",
      "25 52 60\n",
      "wrong\n",
      "5 12 13\n",
      "right\n",
      "0 0 0\n"
     ]
    }
   ],
   "source": [
    "while True:\n",
    "    numbers = list(map(int, input().split()))\n",
    "    if sum(numbers) == 0:\n",
    "        break\n",
    "\n",
    "    max_num = max(numbers)\n",
    "    numbers.remove(max_num)\n",
    "    if (max_num ** 2) == sum(list(map(lambda x: x ** 2, numbers))):\n",
    "        print('right')\n",
    "    else:\n",
    "        print('wrong')"
   ]
  },
  {
   "cell_type": "code",
   "execution_count": null,
   "metadata": {},
   "outputs": [],
   "source": [
    "# 9. 3053 택시 기하학"
   ]
  },
  {
   "cell_type": "code",
   "execution_count": null,
   "metadata": {},
   "outputs": [],
   "source": []
  },
  {
   "cell_type": "code",
   "execution_count": null,
   "metadata": {},
   "outputs": [],
   "source": [
    "# 10. 1002 터렛"
   ]
  },
  {
   "cell_type": "code",
   "execution_count": null,
   "metadata": {},
   "outputs": [],
   "source": []
  }
 ],
 "metadata": {
  "kernelspec": {
   "display_name": "Python 3",
   "language": "python",
   "name": "python3"
  },
  "language_info": {
   "codemirror_mode": {
    "name": "ipython",
    "version": 3
   },
   "file_extension": ".py",
   "mimetype": "text/x-python",
   "name": "python",
   "nbconvert_exporter": "python",
   "pygments_lexer": "ipython3",
   "version": "3.7.3"
  }
 },
 "nbformat": 4,
 "nbformat_minor": 2
}
