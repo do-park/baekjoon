{
 "cells": [
  {
   "cell_type": "code",
   "execution_count": null,
   "metadata": {},
   "outputs": [],
   "source": [
    "# 1. 10952 A+B -5"
   ]
  },
  {
   "cell_type": "code",
   "execution_count": 6,
   "metadata": {},
   "outputs": [
    {
     "name": "stdout",
     "output_type": "stream",
     "text": [
      "1 1\n",
      "2 3\n",
      "0 0\n",
      "2\n",
      "5\n"
     ]
    }
   ],
   "source": [
    "a = 1\n",
    "b = 1\n",
    "result = []\n",
    "\n",
    "while a!=0 and b != 0:\n",
    "    a, b = input().split()\n",
    "    a = int(a); b = int(b)\n",
    "    result.append(a+b)\n",
    "    \n",
    "for i in result[:-1]:\n",
    "    print(i)"
   ]
  },
  {
   "cell_type": "code",
   "execution_count": null,
   "metadata": {},
   "outputs": [],
   "source": [
    "# 2. 10951 A+B -4"
   ]
  },
  {
   "cell_type": "code",
   "execution_count": 16,
   "metadata": {},
   "outputs": [],
   "source": [
    "import sys\n",
    "\n",
    "for line in sys.stdin:\n",
    "    a, b = map(int, line.split())\n",
    "    print(a+b)"
   ]
  },
  {
   "cell_type": "code",
   "execution_count": null,
   "metadata": {},
   "outputs": [],
   "source": [
    "# 3. 1110 더하기 사이클"
   ]
  },
  {
   "cell_type": "code",
   "execution_count": 15,
   "metadata": {},
   "outputs": [
    {
     "name": "stdout",
     "output_type": "stream",
     "text": [
      "1\n",
      "60\n"
     ]
    }
   ],
   "source": [
    "num = int(input())\n",
    "new_num = num\n",
    "cnt = 0\n",
    "\n",
    "while True:\n",
    "    a = new_num // 10\n",
    "    b = new_num % 10\n",
    "    c = (a + b) % 10\n",
    "    new_num = 10 * b + c\n",
    "    cnt += 1\n",
    "    if new_num == num:\n",
    "        break\n",
    "    \n",
    "print(cnt)"
   ]
  }
 ],
 "metadata": {
  "kernelspec": {
   "display_name": "Python 3",
   "language": "python",
   "name": "python3"
  },
  "language_info": {
   "codemirror_mode": {
    "name": "ipython",
    "version": 3
   },
   "file_extension": ".py",
   "mimetype": "text/x-python",
   "name": "python",
   "nbconvert_exporter": "python",
   "pygments_lexer": "ipython3",
   "version": "3.7.4"
  }
 },
 "nbformat": 4,
 "nbformat_minor": 2
}
