{
 "cells": [
  {
   "cell_type": "code",
   "execution_count": null,
   "metadata": {},
   "outputs": [],
   "source": [
    "# 2798. 블랙잭"
   ]
  },
  {
   "cell_type": "code",
   "execution_count": 1,
   "metadata": {},
   "outputs": [
    {
     "name": "stdout",
     "output_type": "stream",
     "text": [
      "5 21\n",
      "5 6 7 8 9\n",
      "21\n"
     ]
    }
   ],
   "source": [
    "import itertools\n",
    "\n",
    "N, M = map(int, input().split())\n",
    "Cards = list(map(int, input().split()))\n",
    "\n",
    "C = itertools.combinations(Cards, 3)\n",
    "C = list(C)\n",
    "\n",
    "blackjack = float(\"inf\")\n",
    "for i in range(len(C)):\n",
    "    if abs(M-sum(C[i])) < abs(M - blackjack) and M >= sum(C[i]):\n",
    "        blackjack = sum(C[i])\n",
    "\n",
    "print(blackjack)"
   ]
  },
  {
   "cell_type": "code",
   "execution_count": null,
   "metadata": {},
   "outputs": [],
   "source": [
    "# 2231. 분해합"
   ]
  },
  {
   "cell_type": "code",
   "execution_count": 2,
   "metadata": {},
   "outputs": [
    {
     "name": "stdout",
     "output_type": "stream",
     "text": [
      "216\n",
      "198\n"
     ]
    }
   ],
   "source": [
    "N = int(input())\n",
    "\n",
    "temp = N\n",
    "count = 0\n",
    "\n",
    "if N > 999999:\n",
    "    print(0)\n",
    "\n",
    "else:\n",
    "\n",
    "    count = len(str(N))\n",
    "\n",
    "    for n in range(N - 9 * count, N):\n",
    "        result = n\n",
    "        temp = n\n",
    "        for c in range(0, count):\n",
    "            result += temp % 10\n",
    "            temp = temp // 10\n",
    "\n",
    "        if result == N:\n",
    "            print(n)\n",
    "            break\n",
    "\n",
    "    else:\n",
    "        print(0)"
   ]
  },
  {
   "cell_type": "code",
   "execution_count": null,
   "metadata": {},
   "outputs": [],
   "source": [
    "# 7568. 덩치"
   ]
  },
  {
   "cell_type": "code",
   "execution_count": 4,
   "metadata": {},
   "outputs": [
    {
     "name": "stdout",
     "output_type": "stream",
     "text": [
      "5\n",
      "55 185\n",
      "58 183\n",
      "88 186\n",
      "60 175\n",
      "46 155\n",
      "2 2 1 2 5 "
     ]
    }
   ],
   "source": [
    "N = int(input())\n",
    "X = []\n",
    "Y = []\n",
    "for n in range(0, N):\n",
    "    x, y = map(int, input().split())\n",
    "    X.append(x)\n",
    "    Y.append(y)\n",
    "\n",
    "rank = [1] * N\n",
    "for i in range(0, N):\n",
    "    for j in range(0, N):\n",
    "        if X[i] > X[j] and Y[i] > Y[j]:\n",
    "            rank[j] += 1\n",
    "\n",
    "for i in range(0, N):\n",
    "    print(rank[i], end=' ')"
   ]
  },
  {
   "cell_type": "code",
   "execution_count": null,
   "metadata": {},
   "outputs": [],
   "source": [
    "# 1018. 체스판 다시 칠하기"
   ]
  },
  {
   "cell_type": "code",
   "execution_count": 5,
   "metadata": {},
   "outputs": [
    {
     "name": "stdout",
     "output_type": "stream",
     "text": [
      "10 13\n",
      "BBBBBBBBWBWBW\n",
      "BBBBBBBBBWBWB\n",
      "BBBBBBBBWBWBW\n",
      "BBBBBBBBBWBWB\n",
      "BBBBBBBBWBWBW\n",
      "BBBBBBBBBWBWB\n",
      "BBBBBBBBWBWBW\n",
      "BBBBBBBBBWBWB\n",
      "WWWWWWWWWWBWB\n",
      "WWWWWWWWWWBWB\n",
      "12\n"
     ]
    }
   ],
   "source": [
    "A, B = map(int, input().split())\n",
    "board = [list(input()) for _ in range(0, A)]\n",
    "chess = [[0] * B for _ in range(0, A)]\n",
    "\n",
    "# chess: 검흰검흰...\n",
    "for a in range(0, A):\n",
    "    for b in range(0, B):\n",
    "        if a % 2 == 0:\n",
    "            if b % 2 == 0:\n",
    "                if board[a][b] != 'B':\n",
    "                    chess[a][b] = 1\n",
    "            else:\n",
    "                if board[a][b] != 'W':\n",
    "                    chess[a][b] = 1\n",
    "        else:\n",
    "            if b % 2 == 0:\n",
    "                if board[a][b] != 'W':\n",
    "                    chess[a][b] = 1\n",
    "            else:\n",
    "                if board[a][b] != 'B':\n",
    "                    chess[a][b] = 1\n",
    "\n",
    "count = 0\n",
    "counts = []\n",
    "\n",
    "for a in range(0, A - 7):\n",
    "    for b in range(0, B - 7):\n",
    "        for i in range(0, 8):\n",
    "            for j in range(0, 8):\n",
    "                if chess[a + i][b + j] == 1:\n",
    "                    count += 1\n",
    "        counts.append(count)\n",
    "        count = 0\n",
    "\n",
    "print('{}'.format(min(min(counts), 64 - max(counts))))"
   ]
  },
  {
   "cell_type": "code",
   "execution_count": null,
   "metadata": {},
   "outputs": [],
   "source": [
    "# 1436. 영화감독 숌"
   ]
  },
  {
   "cell_type": "code",
   "execution_count": 6,
   "metadata": {},
   "outputs": [
    {
     "name": "stdout",
     "output_type": "stream",
     "text": [
      "13\n",
      "6666\n"
     ]
    }
   ],
   "source": [
    "N = int(input())\n",
    "\n",
    "count = 0\n",
    "i = 665\n",
    "while count != N:\n",
    "    i += 1\n",
    "    temp = i\n",
    "    temp_nums = []\n",
    "    while temp != 0:\n",
    "        temp_nums.append(temp % 10)\n",
    "        temp //= 10\n",
    "\n",
    "    for j in range(0, len(temp_nums) - 2):\n",
    "        if temp_nums[j] == 6 and temp_nums[j+1] == 6 and temp_nums[j+2] == 6:\n",
    "            count += 1\n",
    "            break\n",
    "\n",
    "\n",
    "print(i)"
   ]
  }
 ],
 "metadata": {
  "kernelspec": {
   "display_name": "Python 3",
   "language": "python",
   "name": "python3"
  },
  "language_info": {
   "codemirror_mode": {
    "name": "ipython",
    "version": 3
   },
   "file_extension": ".py",
   "mimetype": "text/x-python",
   "name": "python",
   "nbconvert_exporter": "python",
   "pygments_lexer": "ipython3",
   "version": "3.7.3"
  }
 },
 "nbformat": 4,
 "nbformat_minor": 4
}
